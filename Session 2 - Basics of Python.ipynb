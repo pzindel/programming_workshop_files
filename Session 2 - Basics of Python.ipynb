{
 "cells": [
  {
   "cell_type": "markdown",
   "metadata": {},
   "source": [
    "# The ins and outs of Python"
   ]
  },
  {
   "cell_type": "markdown",
   "metadata": {},
   "source": [
    "Every programming language has its own set of keywords and rules that programers need to follow when writing their code. As mentioned in the first session, Python has a very simple syntax that is easy to learn and follow.\n",
    "\n",
    "The following are the fundamentals of programming that you will need to get started. As you practice and progress your skills you can cover more advanced topics. The great thing about these fundamentals is that they are the building blocks of all programs and all languages incorporate them in some form or another. Once you wish to learn another programming language all of these fundamental concepts will still apply and you will only need to learn how to write/utilize them in the new language."
   ]
  },
  {
   "cell_type": "markdown",
   "metadata": {},
   "source": [
    "### Basic Syntax\n",
    "\n",
    "- programs are split into blocks of code that accomplish subtasks which are chained together to achieve the main task of the program\n",
    "- some times blocks are a requirement of the programming language (e.g. loops) and other times the decision of using blocks is at the descretion of the programmer (e.g. user-define functions)\n",
    "- using code blocks intentionally can make a problem easier to solve, a program easier to understand, and when done well it will allow you to reuse parts of a program in future programs\n",
    "- a program can contain any number of blocks\n",
    "- blocks can be nested within each other and can made up of any number of lines\n",
    "- some programming languages use punctuation for dividing blocks (e.g. curly brackets {})\n",
    "- **Python** uses **whitespace indentions** to divide blocks and enforce its structure\n",
    "- the standard indention for each new block is 4 spaces (1 tab) from the previous block\n",
    "\n",
    "For example in an *if statement*:"
   ]
  },
  {
   "cell_type": "code",
   "execution_count": 1,
   "metadata": {
    "scrolled": true
   },
   "outputs": [
    {
     "name": "stdout",
     "output_type": "stream",
     "text": [
      "True\n"
     ]
    }
   ],
   "source": [
    "if True:\n",
    "    print(\"True\")"
   ]
  },
  {
   "cell_type": "markdown",
   "metadata": {},
   "source": [
    "everything that follows the line *if True:* needs to be distinguished as a block that we only want to run when the *condition* is True; as such we need to indent to separate the block from the initial line. \n",
    "\n",
    "Nesting blocks works in the same way, with each level of indent indicating which block the line of code belongs to:"
   ]
  },
  {
   "cell_type": "code",
   "execution_count": 2,
   "metadata": {},
   "outputs": [
    {
     "name": "stdout",
     "output_type": "stream",
     "text": [
      "This line is part of block 1\n",
      "This line is part of block 2\n",
      "This line is part of block 3\n",
      "This line is also part of block 2\n",
      "This line is part of block 1 again\n"
     ]
    }
   ],
   "source": [
    "print(\"This line is part of block 1\")\n",
    "if True:\n",
    "    print(\"This line is part of block 2\")\n",
    "    if True:\n",
    "        print(\"This line is part of block 3\")\n",
    "    print(\"This line is also part of block 2\")\n",
    "print(\"This line is part of block 1 again\")"
   ]
  },
  {
   "cell_type": "markdown",
   "metadata": {},
   "source": [
    "Lines 1, 2, and 7 are part of the same block; lines 3, 4, and 6 are part of the same block; line 5 is on its own block\n",
    "\n",
    "Programs will typically run on a block by block basis which means if one line of a certain block is run than the rest of the block will also run. If this shouldn't be the case for your lines of code then they should be in separate blocks.\n",
    "\n",
    "***\n",
    "\n",
    "- long lines of code with several components can be split among several lines for easier reading\n",
    "- **Python's** *line break* character is a backslash \\\n",
    "- for statements within brackets (), [], or {} the backslash is not needed.\n",
    "- the indention of the continued line is arbitrary; ideally something easy to read\n",
    "- lines should be broken after natural points such as arithmetic symbols (+-\\*/) or commas\n",
    "\n",
    "For example"
   ]
  },
  {
   "cell_type": "code",
   "execution_count": 3,
   "metadata": {},
   "outputs": [],
   "source": [
    "total_1 = 243 + 23452 + 63634\n",
    "total_2 = 243 + \\\n",
    "          23452 + \\\n",
    "          63634\n",
    "total_3 = 243 + \\\n",
    "                        23452 + \\\n",
    "    63634"
   ]
  },
  {
   "cell_type": "markdown",
   "metadata": {},
   "source": [
    "are all valid and will be read by the computer in the same way. Note that the line for *total_2* is much easier to read than that for *total_3*.\n",
    "\n",
    "For splitting within brackets the backslash is not needed:"
   ]
  },
  {
   "cell_type": "code",
   "execution_count": 4,
   "metadata": {},
   "outputs": [
    {
     "name": "stdout",
     "output_type": "stream",
     "text": [
      "first second third\n"
     ]
    }
   ],
   "source": [
    "total = (243 + \n",
    "         23452 + \n",
    "         63634)\n",
    "listing = [1,\n",
    "           2,\n",
    "           3,\n",
    "           4]\n",
    "print(\n",
    "    \"first\",\n",
    "    \"second\",\n",
    "    \"third\"\n",
    "    )"
   ]
  },
  {
   "cell_type": "markdown",
   "metadata": {},
   "source": [
    "***\n",
    "\n",
    "- comments can be added to your code to keep track of what you've done and to make it easier for other to understand\n",
    "- comments are ignored by the computer when the program runs; they're purely for programmers\n",
    "- **Python** uses the hash sign # for *single-line* comments and triple quotations \"\"\" \"\"\" for *mutli-line* comments\n",
    "- everything on the same line and following the # will be ignored by the computer\n",
    "- everything between the triple quotations will be ignored by the computer\n",
    "\n",
    "For example:"
   ]
  },
  {
   "cell_type": "code",
   "execution_count": 5,
   "metadata": {},
   "outputs": [
    {
     "name": "stdout",
     "output_type": "stream",
     "text": [
      "...\n"
     ]
    }
   ],
   "source": [
    "\"\"\"\n",
    "Using triple quotations allows us to write\n",
    "comments over several lines making it \n",
    "ideal for long comments...\n",
    "\"\"\"\n",
    "# ...and hash allows us to write single-lined comments...\n",
    "print(\"...\") # ...which can follow on the same line as code!"
   ]
  },
  {
   "cell_type": "markdown",
   "metadata": {},
   "source": [
    "***\n",
    "\n",
    "Lastly we have a set of reserved keywords that Python uses to understand what to do. You'll notice that most code editors will highlight these words in a different color (Jupyter's default is green) to show that they are reserved and cannot be used for variable names. Here's a list:"
   ]
  },
  {
   "cell_type": "code",
   "execution_count": 6,
   "metadata": {},
   "outputs": [
    {
     "ename": "SyntaxError",
     "evalue": "invalid syntax (<ipython-input-6-1cd88a73131a>, line 1)",
     "output_type": "error",
     "traceback": [
      "\u001b[1;36m  File \u001b[1;32m\"<ipython-input-6-1cd88a73131a>\"\u001b[1;36m, line \u001b[1;32m1\u001b[0m\n\u001b[1;33m    and\u001b[0m\n\u001b[1;37m      ^\u001b[0m\n\u001b[1;31mSyntaxError\u001b[0m\u001b[1;31m:\u001b[0m invalid syntax\n"
     ]
    }
   ],
   "source": [
    "and\n",
    "as\n",
    "assert\n",
    "break\n",
    "class\n",
    "continue\n",
    "def\n",
    "del\n",
    "elif\n",
    "else\n",
    "except\n",
    "exec\n",
    "finally\n",
    "for\n",
    "from\n",
    "global\n",
    "if\n",
    "import\n",
    "in\n",
    "is\n",
    "lambda\n",
    "not\n",
    "or\n",
    "pass\n",
    "print\n",
    "raise\n",
    "return\n",
    "try\n",
    "while\n",
    "with\n",
    "yield"
   ]
  },
  {
   "cell_type": "markdown",
   "metadata": {},
   "source": [
    "The majority of these will be explained and used throughout this workshop series."
   ]
  },
  {
   "cell_type": "markdown",
   "metadata": {},
   "source": [
    "***\n",
    "### Variables & Data Types\n",
    "\n",
    "- programming languages have a series of different data types and data structures to help classify data and optimze their use\n",
    "- **Python** doesn't require explicit declaration of the data type the variable will store; the data type is inferred by the format of the value assigned to the variable\n",
    "- values (placed to the right of an equality sign, =) can be assigned to variables (placed on the left of an equality sign =)\n",
    "- variable can be named using a series of letters, numbers, and underscores but the name must start with a letter (other special characters cannot be used)\n",
    "- **Python** has a number of built-in data types including: *Numbers*, *Booleans*, *Strings*, *Lists*, *Tuples*, and *Dictionaries*\n",
    "\n",
    "Here's an example of assigning three different data types to variables:"
   ]
  },
  {
   "cell_type": "code",
   "execution_count": 7,
   "metadata": {},
   "outputs": [],
   "source": [
    "var_1 = 100\n",
    "var_2 = True\n",
    "var_3 = \"Test\""
   ]
  },
  {
   "cell_type": "markdown",
   "metadata": {},
   "source": [
    "The three variables use the standard naming convention of using lowercase with underscore separaters. Each of the variables has a different type that **Python** recognizes based on special characters and keywords.\n",
    "\n",
    "***\n",
    "##### Numbers\n",
    "\n",
    "- *numbers* can be assigned to a variable by simply using a number value thats positive, negative, and/or a decimal\n",
    "- *numbers* are further divided into subtypes *float* and *integers*\n",
    "- *integers* are whole numbers and *floats* are numbers containing a decimal point\n",
    "- for very large or very small values we can add powers of ten by appending *e* and the power value\n",
    "\n",
    "E.g."
   ]
  },
  {
   "cell_type": "code",
   "execution_count": 8,
   "metadata": {},
   "outputs": [],
   "source": [
    "var_1 = 1    # integer number\n",
    "var_2 = 1.0  # float number\n",
    "var_3 = 1.   # float number\n",
    "var_4 = 2e3  # large float number equal to 2x(10^3) = 2x10x10x10 = 2000\n",
    "var_5 = 2e-3 # small float number equal to 2x(10^(-3)) = 2/10/10/10 = 0.002"
   ]
  },
  {
   "cell_type": "markdown",
   "metadata": {},
   "source": [
    "***\n",
    "##### Strings\n",
    "\n",
    "- *strings* are used to store letters, punctuation, and the character equivalents of numbers\n",
    "- *strings* can be assigned to a variables by putting the data between a set of quotation marks (single or double)\n",
    "- special characters and punctuation can be added to the string using the backslash \\; these are called escape characters\n",
    "- some common escape characters are: \\n for a newline, \\t for a horizontal tab, \\\\ for a backslash, \\' for a single quote, \\\" for a double quote\n",
    "- the escape character for single/double quotes only needs to be used if the quotes match the enclosing quotes\n",
    "\n",
    "E.g."
   ]
  },
  {
   "cell_type": "code",
   "execution_count": 9,
   "metadata": {},
   "outputs": [
    {
     "name": "stdout",
     "output_type": "stream",
     "text": [
      "The newline character \n",
      " will split the string to several lines when printed and a horizontal tab \t will add space to the printed text.\n",
      "For different 'quotes' no escape character is needed.\n",
      "For the same \"quotes\" we need to use escape characters.\n",
      "A single backslash can be used to split the line of code (not shown when printed) and a double quote \\ will add a backslash character to the string.\n"
     ]
    }
   ],
   "source": [
    "var_1 = \"This string contains several letters, the number 314, and the following punctuation: !@#$%^&*()_+-=[]{};''<.?/\"\n",
    "var_2 = \"5\"    # this is a string of the number 5 and is used in different ways than the numberical variable\n",
    "\n",
    "var_3 = \"The newline character \\n will split the string to several lines when printed and a horizontal tab \\t will add space to the printed text.\"\n",
    "print(var_3)\n",
    "\n",
    "var_4 = \"For different 'quotes' no escape character is needed.\"\n",
    "print(var_4)\n",
    "\n",
    "var_5 = \"For the same \\\"quotes\\\" we need to use escape characters.\"\n",
    "print(var_5)\n",
    "\n",
    "var_6 = \"A single backslash \\\n",
    "can be used to split the line of code (not shown when printed) and a double quote \\\\ will add a backslash character to the string.\"\n",
    "print(var_6)"
   ]
  },
  {
   "cell_type": "markdown",
   "metadata": {},
   "source": [
    "***\n",
    "##### Booleans\n",
    "\n",
    "- *booleans* is a logic data type that can be assigned a truth value using the keywords **True** or **False**\n",
    "- *booleans* are useful when we want the program to include conditional decisions\n",
    "- the *integer* values 1 and 0 are completely interchangable with **True** and **False** respectively\n",
    "- when used in a conditional (e.g. *if statement*) any number besides 0 will evaluate as true\n",
    "- when used in a conditional any non-empty string will evaluate as true\n",
    "\n",
    "E.g."
   ]
  },
  {
   "cell_type": "code",
   "execution_count": 10,
   "metadata": {},
   "outputs": [
    {
     "name": "stdout",
     "output_type": "stream",
     "text": [
      "var_3 evaluated true\n",
      "var_5 evaluated true\n"
     ]
    }
   ],
   "source": [
    "var_1 = True    # boolean value of true\n",
    "var_2 = False   # boolean value of false\n",
    "var_3 = 5.3     # non-zero number\n",
    "var_4 = 0       # zero value number\n",
    "var_5 = \" \"     # non-empty string\n",
    "var_6 = \"\"      # empty string\n",
    "\n",
    "if var_3:\n",
    "    print(\"var_3 evaluated true\")\n",
    "if var_4:\n",
    "    print(\"var_4 evaluated true\")\n",
    "if var_5:\n",
    "    print(\"var_5 evaluated true\")\n",
    "if var_6:\n",
    "    print(\"var_6 evaluated true\")"
   ]
  },
  {
   "cell_type": "markdown",
   "metadata": {},
   "source": [
    "***\n",
    "##### Lists\n",
    "\n",
    "- *lists* are a data structure that allow you to store a collection of data of different types in a single variable\n",
    "- items in a *list* need to be contained in a set of square brackets [] and separated by commas\n",
    "- all of the items you put in a list will remain in the order that you put them\n",
    "- items in a list can be retrieved using *indexing* which is specificed using square brackets appended to the variable name (post-assignment)\n",
    "- *indexing* also works for *string* data types\n",
    "- items in a list can be reassigned by combining *indexing* with assignement\n",
    "\n",
    "E.g."
   ]
  },
  {
   "cell_type": "code",
   "execution_count": 11,
   "metadata": {},
   "outputs": [
    {
     "name": "stdout",
     "output_type": "stream",
     "text": [
      "['some string', 3, ['list in another list', 3, []], True]\n",
      "\n",
      "first element: some string\n",
      "third element: ['list in another list', 3, []]\n",
      "fourth letter of first element: e\n",
      "second element (of string) of first element (of inner list) of third element (of outer list): i \n",
      "\n",
      "['new string', 'switched number with string', ['list in another list', 3, []], True]\n"
     ]
    }
   ],
   "source": [
    "# the following list contains strings, numbers, other lists, and a boolean\n",
    "list_1 = ['some string', 3, ['list in another list', 3, []], True]\n",
    "print(list_1)\n",
    "\n",
    "# we can pick out the an element using indexing with the position value (starting from zero)\n",
    "print(\"\\nfirst element:\", list_1[0])\n",
    "print(\"third element:\", list_1[2])\n",
    "print(\"fourth letter of first element:\", list_1[0][3])\n",
    "print(\"second element (of string) of first element (of inner list) of third element (of outer list):\", list_1[2][0][1], \"\\n\")\n",
    "\n",
    "# elements can be reassigned\n",
    "list_1[0] = 'new string'\n",
    "list_1[1] = 'switched number with string'\n",
    "print(list_1)"
   ]
  },
  {
   "cell_type": "markdown",
   "metadata": {},
   "source": [
    "***\n",
    "##### Tuples\n",
    "\n",
    "- *tuples* are a similar collection of data of different types assigned using parentheses () instead of square brackets\n",
    "- *tuples* can be indexed just like *lists*\n",
    "- the order of data in *tuples* is preserved\n",
    "- *tuples* cannot be reassigned after creation"
   ]
  },
  {
   "cell_type": "code",
   "execution_count": 12,
   "metadata": {},
   "outputs": [
    {
     "name": "stdout",
     "output_type": "stream",
     "text": [
      "second element: s\n"
     ]
    }
   ],
   "source": [
    "tuple_1 = (32, 's', False)\n",
    "print(\"second element:\", tuple_1[1])"
   ]
  },
  {
   "cell_type": "markdown",
   "metadata": {},
   "source": [
    "***\n",
    "##### Dictionaries\n",
    "\n",
    "- *dictionaries* are another data structure for storing lots of data created using curly brackets {}\n",
    "- unlike *lists* and *tuples*, data stored in *dictionaries* has two components: a key for indexing and a corresponding value\n",
    "- key-value pairs are separated by a colon and each item is separated by a comma\n",
    "- data stored in *dictionaries* has no particular order\n",
    "- data in *dictionaries* can be reassigned\n",
    "\n",
    "E.g."
   ]
  },
  {
   "cell_type": "code",
   "execution_count": 13,
   "metadata": {},
   "outputs": [
    {
     "name": "stdout",
     "output_type": "stream",
     "text": [
      "The value at 'key 1' is:  2\n",
      "The value at 2 is:  value 2\n"
     ]
    }
   ],
   "source": [
    "dict_1 = {\"key 1\": \"value 1\", \"key 2\": \"value 2\"}\n",
    "\n",
    "dict_2 = {\"key 1\": 2, 2: \"value 2\", \"list key\": [\"list of values\"]}\n",
    "print(\"The value at 'key 1' is: \", dict_2[\"key 1\"])\n",
    "print(\"The value at 2 is: \", dict_2[2])"
   ]
  },
  {
   "cell_type": "markdown",
   "metadata": {},
   "source": [
    "***\n",
    "### Operators\n",
    "\n",
    "Operators allow us to manipulate and compare data in various ways. Operators are typically used numbers however Python implements then in a way that allows users to apply a variety of operators to strings as well.\n",
    "- *Arithmetic operators* allow us to combine numberic values. These include addition (+), subtraction (-), multiplication (\\*), division (/), modulus (%), exponents (\\*\\*), and integer division (//).\n",
    "- *Assignment operators* allow us to assign a value to variables. This includes the regular assignment (=) along with a number of short forms for each arithmetic operator (+=, -=, \\*=, /=, %=, \\*\\*=, //=) which combine the value on the right with that of the variable on the left.\n",
    "- *Comparsion operators* are used when we want to compare how two values relate to each other and will produce a boolean value based on if the statement is true or not. These operators include equivalent (==), not equivalent (!=), greater than (>), less than (<), greater than or equal (>=), less than or equal (<=).\n",
    "- *Logical operators* are typically combined with comparison operators to combine several comparisons into a more complex statement. These include **and**, **or**, **not**."
   ]
  },
  {
   "cell_type": "code",
   "execution_count": 14,
   "metadata": {},
   "outputs": [
    {
     "data": {
      "text/plain": [
       "False"
      ]
     },
     "execution_count": 14,
     "metadata": {},
     "output_type": "execute_result"
    }
   ],
   "source": [
    "# Arithmetic Operators\n",
    "3 + 2    # (=5) addition\n",
    "3 - 2    # (=1) subtraction\n",
    "3 * 2    # (=6) multiplication\n",
    "3 / 2    # (=1.5) division\n",
    "3 % 2    # (=1) modulus\n",
    "3 ** 2   # (=9) exponents\n",
    "3 // 2   # (=1) integer/floor division\n",
    "\n",
    "# Assignment Operators\n",
    "x = 3    # x now has a value of 3\n",
    "x += 3   # 3 is added, x now has a value of 6\n",
    "x -= 3   # 3 is removed, x now has a value of 3\n",
    "x *= 4   # x is quadrupled and has a value of 12\n",
    "x /= 2   # x is divided by 2 and has a value of 6\n",
    "x %= 4   # x is divided by the modulus 4 and now has a value of 2\n",
    "x **= 3  # x is exponentialed by 3 and now has a value of 8\n",
    "x //= 3  # x is integer divided by 3 and has a value of 2\n",
    "\n",
    "# Comparison Operators\n",
    "a = 3\n",
    "b = 6\n",
    "a == b   # False\n",
    "a != b   # True\n",
    "a > b    # False\n",
    "a < b    # True\n",
    "a >= b   # False\n",
    "a <= b   # True\n",
    "\n",
    "# Logical Operators\n",
    "True and False    # False\n",
    "True or False     # True\n",
    "not True          # False"
   ]
  },
  {
   "cell_type": "markdown",
   "metadata": {},
   "source": [
    "***\n",
    "### If, For, While\n",
    "\n",
    "As we've already seen breifly, Python has a set of decision-making and loop structures. The *If statement* is one of these which can be used run a block of code when certain conditions are met. Furthermore, the *If statement* can be followed by an optional *elif* (short for else if) or *else* statement to give our code more branching decisions and a fall-back block to run if no conditions are met."
   ]
  },
  {
   "cell_type": "code",
   "execution_count": 15,
   "metadata": {},
   "outputs": [
    {
     "name": "stdout",
     "output_type": "stream",
     "text": [
      "a is less than b\n"
     ]
    }
   ],
   "source": [
    "a = 3\n",
    "b = 6\n",
    "\n",
    "if a == b:\n",
    "    print(\"a is equal to b\")\n",
    "elif a > b:\n",
    "    print(\"a is greater than b\")\n",
    "else:\n",
    "    print(\"a is less than b\")"
   ]
  },
  {
   "cell_type": "markdown",
   "metadata": {},
   "source": [
    "*If* statements are good when we want to run through a decision once but what if we need to repeat a task several times? We can then use a *For* loop to run a block of code a given number of times and use a variable to keep track of how many times the loop has run."
   ]
  },
  {
   "cell_type": "code",
   "execution_count": 16,
   "metadata": {},
   "outputs": [
    {
     "name": "stdout",
     "output_type": "stream",
     "text": [
      "0\n",
      "1\n",
      "2\n",
      "3\n",
      "4\n"
     ]
    }
   ],
   "source": [
    "for i in range(0,5):\n",
    "    print(i)"
   ]
  },
  {
   "cell_type": "markdown",
   "metadata": {},
   "source": [
    "However sometimes we may not know exactly how many times we need to loop over a block of code. In this case we can use a *While* loop to run a block of as long as the given condition is true. Unlike *For* loops if we want to keep track of the number of times the loop has run we'll need to define and increment a variable each loop."
   ]
  },
  {
   "cell_type": "code",
   "execution_count": 17,
   "metadata": {},
   "outputs": [
    {
     "name": "stdout",
     "output_type": "stream",
     "text": [
      "0\n",
      "1\n",
      "2\n",
      "3\n",
      "4\n"
     ]
    }
   ],
   "source": [
    "i = 0\n",
    "while i < 5:\n",
    "    print(i)\n",
    "    i += 1"
   ]
  },
  {
   "cell_type": "markdown",
   "metadata": {},
   "source": [
    "If we want to want to exit out of a loop early we can use the keyword **break** and if we want to skip the current iteration of the loop and continue onto the next we can use the **continue** keyword."
   ]
  },
  {
   "cell_type": "code",
   "execution_count": 18,
   "metadata": {},
   "outputs": [
    {
     "name": "stdout",
     "output_type": "stream",
     "text": [
      "0\n",
      "1\n",
      "2\n",
      "4\n"
     ]
    }
   ],
   "source": [
    "# Example of using break to exit an infinite while loop\n",
    "i = 0\n",
    "while True:\n",
    "    if i >= 5:\n",
    "        break\n",
    "    i += 1\n",
    "    \n",
    "# Example of using continue to skip printing the number 3 on the 4th iteration\n",
    "for i in range(0,5):\n",
    "    if i == 3:\n",
    "        continue\n",
    "    print(i)"
   ]
  },
  {
   "cell_type": "markdown",
   "metadata": {},
   "source": [
    "***\n",
    "### Functions\n",
    "Functions are a very useful tool when programming. They allow you to better organize your code and create an easily resuable block. Functions can be created using the keyword **def** followed by the function name and a set of brackets. "
   ]
  },
  {
   "cell_type": "code",
   "execution_count": 19,
   "metadata": {},
   "outputs": [
    {
     "name": "stdout",
     "output_type": "stream",
     "text": [
      "running example_function\n"
     ]
    }
   ],
   "source": [
    "# Creating a function\n",
    "def example_function():\n",
    "    # Block of code that runs when the function runs\n",
    "    print(\"running example_function\")\n",
    "    return\n",
    "\n",
    "# Calling a function\n",
    "example_function()"
   ]
  },
  {
   "cell_type": "markdown",
   "metadata": {},
   "source": [
    "You can provide parameters to your function by naming the variable within the paratheses during definition, and you can return values by placing them after the **return** keyword."
   ]
  },
  {
   "cell_type": "code",
   "execution_count": 20,
   "metadata": {},
   "outputs": [
    {
     "data": {
      "text/plain": [
       "5"
      ]
     },
     "execution_count": 20,
     "metadata": {},
     "output_type": "execute_result"
    }
   ],
   "source": [
    "def add_numbers(num_1, num_2):\n",
    "    sum_value = num_1 + num_2\n",
    "    return sum_value\n",
    "\n",
    "add_numbers(2,3)"
   ]
  },
  {
   "cell_type": "markdown",
   "metadata": {},
   "source": [
    "***\n",
    "### Libraries\n",
    "\n",
    "We people design a set of useful functions and classes for Python they may package them tools in separate files called *Libraries* or *modules*. These libraries can then be imported into other code and used without having to rewrite the functions for every new program. These libraries can be imported in several ways depending on how you want to use them."
   ]
  },
  {
   "cell_type": "code",
   "execution_count": 21,
   "metadata": {},
   "outputs": [
    {
     "data": {
      "text/plain": [
       "3"
      ]
     },
     "execution_count": 21,
     "metadata": {},
     "output_type": "execute_result"
    }
   ],
   "source": [
    "# Importing the entire library\n",
    "import numpy\n",
    "numpy.sqrt(4)\n",
    "\n",
    "# Importing the entire library using a short form\n",
    "import numpy as np\n",
    "np.sqrt(4)\n",
    "\n",
    "# Importing the entire library without requiring the name when calling functions\n",
    "from numpy import *\n",
    "sqrt(4)\n",
    "\n",
    "# Importing only the functions from the library that you need\n",
    "from numpy import sqrt, absolute\n",
    "absolute(-2)\n",
    "\n",
    "# Importing only the function from the library that you need using a short form\n",
    "from numpy import absolute as absl\n",
    "absl(-3)"
   ]
  },
  {
   "cell_type": "markdown",
   "metadata": {},
   "source": [
    "***\n",
    "### Classes and Objects\n",
    "\n",
    "Classes and objects are very important topics in programming especially in the subject of object-oriented programming. A class refers to a structure we can define, similar to functions, that define an object. When create a unique instance of the class we call it an object. The object, based on the class that defines it, has a set of variables that define it and a set of functions (called methods) which relate to it. \n",
    "\n",
    "Defining classes is outside of the scope of this workshop however classes are commonly used in Python modules and it's useful to understand objects when we create them. \n",
    "\n",
    "A simple example is a *string* variable which is always wrapped in an object structure when we create it."
   ]
  },
  {
   "cell_type": "code",
   "execution_count": 22,
   "metadata": {},
   "outputs": [
    {
     "data": {
      "text/plain": [
       "str"
      ]
     },
     "execution_count": 22,
     "metadata": {},
     "output_type": "execute_result"
    }
   ],
   "source": [
    "our_string = str(\"Test\")    # This is the way we create an instant of a class; \n",
    "                            # for strings this is equivalent to our_string = \"Test\"\n",
    "type(our_string)"
   ]
  },
  {
   "cell_type": "markdown",
   "metadata": {},
   "source": [
    "In this example *str* is the class and *our_string* is the object. The word \"Test\" is a variable value that we assign to the object when we created it. However the object also has several methods that we can call to perform various tasks. These methods can be called by appending the object name with a period followed by the method name and a set of parentheses"
   ]
  },
  {
   "cell_type": "code",
   "execution_count": 23,
   "metadata": {},
   "outputs": [
    {
     "data": {
      "text/plain": [
       "'test'"
      ]
     },
     "execution_count": 23,
     "metadata": {},
     "output_type": "execute_result"
    }
   ],
   "source": [
    "# Call the lower() method to get a lower case version of our text\n",
    "our_string.lower()"
   ]
  },
  {
   "cell_type": "markdown",
   "metadata": {},
   "source": [
    "You can call *help* on functions and classes to get some documentation on how to use them and what methods they have"
   ]
  },
  {
   "cell_type": "code",
   "execution_count": 24,
   "metadata": {},
   "outputs": [
    {
     "name": "stdout",
     "output_type": "stream",
     "text": [
      "Help on class str in module builtins:\n",
      "\n",
      "class str(object)\n",
      " |  str(object='') -> str\n",
      " |  str(bytes_or_buffer[, encoding[, errors]]) -> str\n",
      " |  \n",
      " |  Create a new string object from the given object. If encoding or\n",
      " |  errors is specified, then the object must expose a data buffer\n",
      " |  that will be decoded using the given encoding and error handler.\n",
      " |  Otherwise, returns the result of object.__str__() (if defined)\n",
      " |  or repr(object).\n",
      " |  encoding defaults to sys.getdefaultencoding().\n",
      " |  errors defaults to 'strict'.\n",
      " |  \n",
      " |  Methods defined here:\n",
      " |  \n",
      " |  __add__(self, value, /)\n",
      " |      Return self+value.\n",
      " |  \n",
      " |  __contains__(self, key, /)\n",
      " |      Return key in self.\n",
      " |  \n",
      " |  __eq__(self, value, /)\n",
      " |      Return self==value.\n",
      " |  \n",
      " |  __format__(self, format_spec, /)\n",
      " |      Return a formatted version of the string as described by format_spec.\n",
      " |  \n",
      " |  __ge__(self, value, /)\n",
      " |      Return self>=value.\n",
      " |  \n",
      " |  __getattribute__(self, name, /)\n",
      " |      Return getattr(self, name).\n",
      " |  \n",
      " |  __getitem__(self, key, /)\n",
      " |      Return self[key].\n",
      " |  \n",
      " |  __getnewargs__(...)\n",
      " |  \n",
      " |  __gt__(self, value, /)\n",
      " |      Return self>value.\n",
      " |  \n",
      " |  __hash__(self, /)\n",
      " |      Return hash(self).\n",
      " |  \n",
      " |  __iter__(self, /)\n",
      " |      Implement iter(self).\n",
      " |  \n",
      " |  __le__(self, value, /)\n",
      " |      Return self<=value.\n",
      " |  \n",
      " |  __len__(self, /)\n",
      " |      Return len(self).\n",
      " |  \n",
      " |  __lt__(self, value, /)\n",
      " |      Return self<value.\n",
      " |  \n",
      " |  __mod__(self, value, /)\n",
      " |      Return self%value.\n",
      " |  \n",
      " |  __mul__(self, value, /)\n",
      " |      Return self*value.\n",
      " |  \n",
      " |  __ne__(self, value, /)\n",
      " |      Return self!=value.\n",
      " |  \n",
      " |  __repr__(self, /)\n",
      " |      Return repr(self).\n",
      " |  \n",
      " |  __rmod__(self, value, /)\n",
      " |      Return value%self.\n",
      " |  \n",
      " |  __rmul__(self, value, /)\n",
      " |      Return value*self.\n",
      " |  \n",
      " |  __sizeof__(self, /)\n",
      " |      Return the size of the string in memory, in bytes.\n",
      " |  \n",
      " |  __str__(self, /)\n",
      " |      Return str(self).\n",
      " |  \n",
      " |  capitalize(self, /)\n",
      " |      Return a capitalized version of the string.\n",
      " |      \n",
      " |      More specifically, make the first character have upper case and the rest lower\n",
      " |      case.\n",
      " |  \n",
      " |  casefold(self, /)\n",
      " |      Return a version of the string suitable for caseless comparisons.\n",
      " |  \n",
      " |  center(self, width, fillchar=' ', /)\n",
      " |      Return a centered string of length width.\n",
      " |      \n",
      " |      Padding is done using the specified fill character (default is a space).\n",
      " |  \n",
      " |  count(...)\n",
      " |      S.count(sub[, start[, end]]) -> int\n",
      " |      \n",
      " |      Return the number of non-overlapping occurrences of substring sub in\n",
      " |      string S[start:end].  Optional arguments start and end are\n",
      " |      interpreted as in slice notation.\n",
      " |  \n",
      " |  encode(self, /, encoding='utf-8', errors='strict')\n",
      " |      Encode the string using the codec registered for encoding.\n",
      " |      \n",
      " |      encoding\n",
      " |        The encoding in which to encode the string.\n",
      " |      errors\n",
      " |        The error handling scheme to use for encoding errors.\n",
      " |        The default is 'strict' meaning that encoding errors raise a\n",
      " |        UnicodeEncodeError.  Other possible values are 'ignore', 'replace' and\n",
      " |        'xmlcharrefreplace' as well as any other name registered with\n",
      " |        codecs.register_error that can handle UnicodeEncodeErrors.\n",
      " |  \n",
      " |  endswith(...)\n",
      " |      S.endswith(suffix[, start[, end]]) -> bool\n",
      " |      \n",
      " |      Return True if S ends with the specified suffix, False otherwise.\n",
      " |      With optional start, test S beginning at that position.\n",
      " |      With optional end, stop comparing S at that position.\n",
      " |      suffix can also be a tuple of strings to try.\n",
      " |  \n",
      " |  expandtabs(self, /, tabsize=8)\n",
      " |      Return a copy where all tab characters are expanded using spaces.\n",
      " |      \n",
      " |      If tabsize is not given, a tab size of 8 characters is assumed.\n",
      " |  \n",
      " |  find(...)\n",
      " |      S.find(sub[, start[, end]]) -> int\n",
      " |      \n",
      " |      Return the lowest index in S where substring sub is found,\n",
      " |      such that sub is contained within S[start:end].  Optional\n",
      " |      arguments start and end are interpreted as in slice notation.\n",
      " |      \n",
      " |      Return -1 on failure.\n",
      " |  \n",
      " |  format(...)\n",
      " |      S.format(*args, **kwargs) -> str\n",
      " |      \n",
      " |      Return a formatted version of S, using substitutions from args and kwargs.\n",
      " |      The substitutions are identified by braces ('{' and '}').\n",
      " |  \n",
      " |  format_map(...)\n",
      " |      S.format_map(mapping) -> str\n",
      " |      \n",
      " |      Return a formatted version of S, using substitutions from mapping.\n",
      " |      The substitutions are identified by braces ('{' and '}').\n",
      " |  \n",
      " |  index(...)\n",
      " |      S.index(sub[, start[, end]]) -> int\n",
      " |      \n",
      " |      Return the lowest index in S where substring sub is found, \n",
      " |      such that sub is contained within S[start:end].  Optional\n",
      " |      arguments start and end are interpreted as in slice notation.\n",
      " |      \n",
      " |      Raises ValueError when the substring is not found.\n",
      " |  \n",
      " |  isalnum(self, /)\n",
      " |      Return True if the string is an alpha-numeric string, False otherwise.\n",
      " |      \n",
      " |      A string is alpha-numeric if all characters in the string are alpha-numeric and\n",
      " |      there is at least one character in the string.\n",
      " |  \n",
      " |  isalpha(self, /)\n",
      " |      Return True if the string is an alphabetic string, False otherwise.\n",
      " |      \n",
      " |      A string is alphabetic if all characters in the string are alphabetic and there\n",
      " |      is at least one character in the string.\n",
      " |  \n",
      " |  isascii(self, /)\n",
      " |      Return True if all characters in the string are ASCII, False otherwise.\n",
      " |      \n",
      " |      ASCII characters have code points in the range U+0000-U+007F.\n",
      " |      Empty string is ASCII too.\n",
      " |  \n",
      " |  isdecimal(self, /)\n",
      " |      Return True if the string is a decimal string, False otherwise.\n",
      " |      \n",
      " |      A string is a decimal string if all characters in the string are decimal and\n",
      " |      there is at least one character in the string.\n",
      " |  \n",
      " |  isdigit(self, /)\n",
      " |      Return True if the string is a digit string, False otherwise.\n",
      " |      \n",
      " |      A string is a digit string if all characters in the string are digits and there\n",
      " |      is at least one character in the string.\n",
      " |  \n",
      " |  isidentifier(self, /)\n",
      " |      Return True if the string is a valid Python identifier, False otherwise.\n",
      " |      \n",
      " |      Use keyword.iskeyword() to test for reserved identifiers such as \"def\" and\n",
      " |      \"class\".\n",
      " |  \n",
      " |  islower(self, /)\n",
      " |      Return True if the string is a lowercase string, False otherwise.\n",
      " |      \n",
      " |      A string is lowercase if all cased characters in the string are lowercase and\n",
      " |      there is at least one cased character in the string.\n",
      " |  \n",
      " |  isnumeric(self, /)\n",
      " |      Return True if the string is a numeric string, False otherwise.\n",
      " |      \n",
      " |      A string is numeric if all characters in the string are numeric and there is at\n",
      " |      least one character in the string.\n",
      " |  \n",
      " |  isprintable(self, /)\n",
      " |      Return True if the string is printable, False otherwise.\n",
      " |      \n",
      " |      A string is printable if all of its characters are considered printable in\n",
      " |      repr() or if it is empty.\n",
      " |  \n",
      " |  isspace(self, /)\n",
      " |      Return True if the string is a whitespace string, False otherwise.\n",
      " |      \n",
      " |      A string is whitespace if all characters in the string are whitespace and there\n",
      " |      is at least one character in the string.\n",
      " |  \n",
      " |  istitle(self, /)\n",
      " |      Return True if the string is a title-cased string, False otherwise.\n",
      " |      \n",
      " |      In a title-cased string, upper- and title-case characters may only\n",
      " |      follow uncased characters and lowercase characters only cased ones.\n",
      " |  \n",
      " |  isupper(self, /)\n",
      " |      Return True if the string is an uppercase string, False otherwise.\n",
      " |      \n",
      " |      A string is uppercase if all cased characters in the string are uppercase and\n",
      " |      there is at least one cased character in the string.\n",
      " |  \n",
      " |  join(self, iterable, /)\n",
      " |      Concatenate any number of strings.\n",
      " |      \n",
      " |      The string whose method is called is inserted in between each given string.\n",
      " |      The result is returned as a new string.\n",
      " |      \n",
      " |      Example: '.'.join(['ab', 'pq', 'rs']) -> 'ab.pq.rs'\n",
      " |  \n",
      " |  ljust(self, width, fillchar=' ', /)\n",
      " |      Return a left-justified string of length width.\n",
      " |      \n",
      " |      Padding is done using the specified fill character (default is a space).\n",
      " |  \n",
      " |  lower(self, /)\n",
      " |      Return a copy of the string converted to lowercase.\n",
      " |  \n",
      " |  lstrip(self, chars=None, /)\n",
      " |      Return a copy of the string with leading whitespace removed.\n",
      " |      \n",
      " |      If chars is given and not None, remove characters in chars instead.\n",
      " |  \n",
      " |  partition(self, sep, /)\n",
      " |      Partition the string into three parts using the given separator.\n",
      " |      \n",
      " |      This will search for the separator in the string.  If the separator is found,\n",
      " |      returns a 3-tuple containing the part before the separator, the separator\n",
      " |      itself, and the part after it.\n",
      " |      \n",
      " |      If the separator is not found, returns a 3-tuple containing the original string\n",
      " |      and two empty strings.\n",
      " |  \n",
      " |  replace(self, old, new, count=-1, /)\n",
      " |      Return a copy with all occurrences of substring old replaced by new.\n",
      " |      \n",
      " |        count\n",
      " |          Maximum number of occurrences to replace.\n",
      " |          -1 (the default value) means replace all occurrences.\n",
      " |      \n",
      " |      If the optional argument count is given, only the first count occurrences are\n",
      " |      replaced.\n",
      " |  \n",
      " |  rfind(...)\n",
      " |      S.rfind(sub[, start[, end]]) -> int\n",
      " |      \n",
      " |      Return the highest index in S where substring sub is found,\n",
      " |      such that sub is contained within S[start:end].  Optional\n",
      " |      arguments start and end are interpreted as in slice notation.\n",
      " |      \n",
      " |      Return -1 on failure.\n",
      " |  \n",
      " |  rindex(...)\n",
      " |      S.rindex(sub[, start[, end]]) -> int\n",
      " |      \n",
      " |      Return the highest index in S where substring sub is found,\n",
      " |      such that sub is contained within S[start:end].  Optional\n",
      " |      arguments start and end are interpreted as in slice notation.\n",
      " |      \n",
      " |      Raises ValueError when the substring is not found.\n",
      " |  \n",
      " |  rjust(self, width, fillchar=' ', /)\n",
      " |      Return a right-justified string of length width.\n",
      " |      \n",
      " |      Padding is done using the specified fill character (default is a space).\n",
      " |  \n",
      " |  rpartition(self, sep, /)\n",
      " |      Partition the string into three parts using the given separator.\n",
      " |      \n",
      " |      This will search for the separator in the string, starting at the end. If\n",
      " |      the separator is found, returns a 3-tuple containing the part before the\n",
      " |      separator, the separator itself, and the part after it.\n",
      " |      \n",
      " |      If the separator is not found, returns a 3-tuple containing two empty strings\n",
      " |      and the original string.\n",
      " |  \n",
      " |  rsplit(self, /, sep=None, maxsplit=-1)\n",
      " |      Return a list of the words in the string, using sep as the delimiter string.\n",
      " |      \n",
      " |        sep\n",
      " |          The delimiter according which to split the string.\n",
      " |          None (the default value) means split according to any whitespace,\n",
      " |          and discard empty strings from the result.\n",
      " |        maxsplit\n",
      " |          Maximum number of splits to do.\n",
      " |          -1 (the default value) means no limit.\n",
      " |      \n",
      " |      Splits are done starting at the end of the string and working to the front.\n",
      " |  \n",
      " |  rstrip(self, chars=None, /)\n",
      " |      Return a copy of the string with trailing whitespace removed.\n",
      " |      \n",
      " |      If chars is given and not None, remove characters in chars instead.\n",
      " |  \n",
      " |  split(self, /, sep=None, maxsplit=-1)\n",
      " |      Return a list of the words in the string, using sep as the delimiter string.\n",
      " |      \n",
      " |      sep\n",
      " |        The delimiter according which to split the string.\n",
      " |        None (the default value) means split according to any whitespace,\n",
      " |        and discard empty strings from the result.\n",
      " |      maxsplit\n",
      " |        Maximum number of splits to do.\n",
      " |        -1 (the default value) means no limit.\n",
      " |  \n",
      " |  splitlines(self, /, keepends=False)\n",
      " |      Return a list of the lines in the string, breaking at line boundaries.\n",
      " |      \n",
      " |      Line breaks are not included in the resulting list unless keepends is given and\n",
      " |      true.\n",
      " |  \n",
      " |  startswith(...)\n",
      " |      S.startswith(prefix[, start[, end]]) -> bool\n",
      " |      \n",
      " |      Return True if S starts with the specified prefix, False otherwise.\n",
      " |      With optional start, test S beginning at that position.\n",
      " |      With optional end, stop comparing S at that position.\n",
      " |      prefix can also be a tuple of strings to try.\n",
      " |  \n",
      " |  strip(self, chars=None, /)\n",
      " |      Return a copy of the string with leading and trailing whitespace remove.\n",
      " |      \n",
      " |      If chars is given and not None, remove characters in chars instead.\n",
      " |  \n",
      " |  swapcase(self, /)\n",
      " |      Convert uppercase characters to lowercase and lowercase characters to uppercase.\n",
      " |  \n",
      " |  title(self, /)\n",
      " |      Return a version of the string where each word is titlecased.\n",
      " |      \n",
      " |      More specifically, words start with uppercased characters and all remaining\n",
      " |      cased characters have lower case.\n",
      " |  \n",
      " |  translate(self, table, /)\n",
      " |      Replace each character in the string using the given translation table.\n",
      " |      \n",
      " |        table\n",
      " |          Translation table, which must be a mapping of Unicode ordinals to\n",
      " |          Unicode ordinals, strings, or None.\n",
      " |      \n",
      " |      The table must implement lookup/indexing via __getitem__, for instance a\n",
      " |      dictionary or list.  If this operation raises LookupError, the character is\n",
      " |      left untouched.  Characters mapped to None are deleted.\n",
      " |  \n",
      " |  upper(self, /)\n",
      " |      Return a copy of the string converted to uppercase.\n",
      " |  \n",
      " |  zfill(self, width, /)\n",
      " |      Pad a numeric string with zeros on the left, to fill a field of the given width.\n",
      " |      \n",
      " |      The string is never truncated.\n",
      " |  \n",
      " |  ----------------------------------------------------------------------\n",
      " |  Static methods defined here:\n",
      " |  \n",
      " |  __new__(*args, **kwargs) from builtins.type\n",
      " |      Create and return a new object.  See help(type) for accurate signature.\n",
      " |  \n",
      " |  maketrans(x, y=None, z=None, /)\n",
      " |      Return a translation table usable for str.translate().\n",
      " |      \n",
      " |      If there is only one argument, it must be a dictionary mapping Unicode\n",
      " |      ordinals (integers) or characters to Unicode ordinals, strings or None.\n",
      " |      Character keys will be then converted to ordinals.\n",
      " |      If there are two arguments, they must be strings of equal length, and\n",
      " |      in the resulting dictionary, each character in x will be mapped to the\n",
      " |      character at the same position in y. If there is a third argument, it\n",
      " |      must be a string, whose characters will be mapped to None in the result.\n",
      "\n"
     ]
    }
   ],
   "source": [
    "help(str)"
   ]
  },
  {
   "cell_type": "markdown",
   "metadata": {},
   "source": [
    "# Examples"
   ]
  },
  {
   "cell_type": "markdown",
   "metadata": {},
   "source": [
    "Now that we're familiar with the basics we can practice and expand our knowledge through some simple examples. Let's start by reviewing the program from the Task Automation section from our first session."
   ]
  },
  {
   "cell_type": "markdown",
   "metadata": {},
   "source": [
    "### Task automation program revisited"
   ]
  },
  {
   "cell_type": "code",
   "execution_count": 25,
   "metadata": {},
   "outputs": [
    {
     "name": "stdout",
     "output_type": "stream",
     "text": [
      "['eagle_image.jpg', 'eagle_image_639x426.jpg', 'fox_image.jpg', 'fox_image_639x445.jpg', 'frog_image.jpg', 'frog_image_639x426.jpg', 'horse_image.jpg', 'horse_image_639x426.jpg', 'ibex_image.jpg', 'ibex_image_640x960.jpg']\n"
     ]
    }
   ],
   "source": [
    "# Get a list of file names in the images folder\n",
    "from PIL import Image\n",
    "from os import listdir\n",
    "files = listdir(\"session_1_images/\")\n",
    "print(files)\n",
    "\n",
    "# Process each file in the directory\n",
    "for file in files:\n",
    "    # Open the image\n",
    "    filename = \"session_1_images/\" + file\n",
    "    image = Image.open(filename)\n",
    "    # Resize the image\n",
    "    image = image.resize((image.width//2, image.height//2))\n",
    "    # Find the new filename and save the image\n",
    "    filename = filename[:-4] + \"_\" + str(image.width) + \"x\" + str(image.height) + filename[-4:]\n",
    "    image.save(filename)"
   ]
  },
  {
   "cell_type": "markdown",
   "metadata": {},
   "source": [
    "- lines 1, 7, 9, 12, and 14 provide single line comments to help the user follow along with what is happening in the program\n",
    "- line 2 imports a class called *Image* from the *PIL* module which allows us to manipulate images\n",
    "- line 3 imports a function called *listdir* from the *os* library which can be used to list all files and folders in a given directory\n",
    "\n",
    "If we're unfamiliar with the function or class we can call *help* on it to see how to use it."
   ]
  },
  {
   "cell_type": "code",
   "execution_count": 26,
   "metadata": {
    "scrolled": true
   },
   "outputs": [
    {
     "name": "stdout",
     "output_type": "stream",
     "text": [
      "Help on built-in function listdir in module nt:\n",
      "\n",
      "listdir(path=None)\n",
      "    Return a list containing the names of the files in the directory.\n",
      "    \n",
      "    path can be specified as either str, bytes, or a path-like object.  If path is bytes,\n",
      "      the filenames returned will also be bytes; in all other circumstances\n",
      "      the filenames returned will be str.\n",
      "    If path is None, uses the path='.'.\n",
      "    On some platforms, path may also be specified as an open file descriptor;\\\n",
      "      the file descriptor must refer to a directory.\n",
      "      If this functionality is unavailable, using it raises NotImplementedError.\n",
      "    \n",
      "    The list is in arbitrary order.  It does not include the special\n",
      "    entries '.' and '..' even if they are present in the directory.\n",
      "\n"
     ]
    }
   ],
   "source": [
    "help(listdir)"
   ]
  },
  {
   "cell_type": "markdown",
   "metadata": {},
   "source": [
    "This tells us that on line 4 when we provide *listdir* with a folder path it returns a *list* of file names (*strings*) which we store to the variable *files*. We then call *print* on the list to see the names of the files currently in the folder.\n",
    "\n",
    "Next we move onto the actual processing. \n",
    "\n",
    "- the *for* loop on line 8 loops through all of the file names (temporarily storing them to the loop variable *file*) in the list in order\n",
    "- line 10 uses string concatenation to get the filepath for the image we wish to open. \n",
    "\n",
    "Note: all file paths need to be written relative to the location where Python is being run from which is why we need to add the sub-folder name.\n",
    "\n",
    "- line 11 creates an Image object that comtains the photo and assigns it to the variable *image*\n",
    "\n",
    "By consulting the documentation we can find out that the image's width and height are stored in the variables *image.width* and *image.height* respectively and the resize method requires the parameter *(width, height)* to be passed when called. \n",
    "\n",
    "- line 13 calls the *resize* method and overwrites the *image* variable with the new Image object that contains the smaller image\n",
    "- line 15 creates a new string to be used for the new file's name utilizing index slicing, type casting, and string concatenation\n",
    "- line 16 calls the *save* method to write the object to a file\n",
    "- after line 16 the program loops and returns to line 8 where the next *file* is selected and the processing is repeated\n",
    "\n",
    "Note: index slicing works the same manner as regular indexing except by providing two index values separated by a colon we can retrieve an entire section of the variable rather than just one character. This works for any data type that supports indexing."
   ]
  },
  {
   "cell_type": "code",
   "execution_count": 27,
   "metadata": {},
   "outputs": [
    {
     "name": "stdout",
     "output_type": "stream",
     "text": [
      "x[0] gives\t T\n",
      "x[0:] gives\t Test string\n",
      "x[3:-1] gives\t t strin\n",
      "x[:-2] gives\t Test stri\n",
      "x[:9] gives\t Test stri\n"
     ]
    }
   ],
   "source": [
    "x = \"Test string\"\n",
    "print(\"x[0] gives\\t\", x[0])\n",
    "print(\"x[0:] gives\\t\", x[0:])\n",
    "print(\"x[3:-1] gives\\t\", x[3:-1])\n",
    "print(\"x[:-2] gives\\t\", x[:-2])\n",
    "print(\"x[:9] gives\\t\", x[:9])"
   ]
  },
  {
   "cell_type": "markdown",
   "metadata": {},
   "source": [
    "Note: type casting a method of converting a value of one data type to another. To convert a number to a string we can use the $str()$ function and to convert a string representation of a number to a number type we can use the $int()$ or $float()$ function. "
   ]
  },
  {
   "cell_type": "code",
   "execution_count": 28,
   "metadata": {},
   "outputs": [
    {
     "name": "stdout",
     "output_type": "stream",
     "text": [
      "5 <class 'str'>\n",
      "5 <class 'int'>\n",
      "5.3 <class 'str'>\n",
      "5.3 <class 'float'>\n",
      "5.3 <class 'float'>\n",
      "5.3 <class 'str'>\n"
     ]
    }
   ],
   "source": [
    "# converting string to integer\n",
    "x = '5'\n",
    "print(x, type(x))\n",
    "y = int(x)\n",
    "print(y, type(y))\n",
    "\n",
    "# converting string to float\n",
    "x = '5.3'\n",
    "print(x, type(x))\n",
    "y = float(x)\n",
    "print(y, type(y))\n",
    "\n",
    "# converting number to string\n",
    "x = 5.3\n",
    "print(x, type(x))\n",
    "y = str(x)\n",
    "print(y, type(y))"
   ]
  },
  {
   "cell_type": "markdown",
   "metadata": {},
   "source": [
    "##### Challenge: \n",
    "Look through the documentation and apply a $90^\\circ$ rotation to the images."
   ]
  },
  {
   "cell_type": "markdown",
   "metadata": {},
   "source": [
    "***\n",
    "### Substitution Cipher\n",
    "\n",
    "Another program that was touched on in the first session is the substitution cipher from the Cryptography section. This program is actually very short and fairly basic however two of the lines incorporate many components that are good to review.\n",
    "\n",
    "Here's the original program:"
   ]
  },
  {
   "cell_type": "code",
   "execution_count": 29,
   "metadata": {},
   "outputs": [
    {
     "name": "stdout",
     "output_type": "stream",
     "text": [
      "Original message:  we ride at dawn\n",
      "Encrypted message:  jr evqr ng qnja\n",
      "Decrypted message:  we ride at dawn\n"
     ]
    }
   ],
   "source": [
    "# Starting with a plain text message\n",
    "plain_text = \"we ride at dawn\"\n",
    "print(\"Original message: \", plain_text)\n",
    "\n",
    "# We encrypt it using ROT13, rotating each letter by 13 down the alphabet\n",
    "cipher_text = \"\".join([c if (c == \" \") else chr(ord(c)+13) if (ord(c)+13) < 123 else chr((ord(c)+13)-26) for c in plain_text])\n",
    "print(\"Encrypted message: \", cipher_text)\n",
    "\n",
    "# We decrypt the message using the reverse process to recover the original message\n",
    "decrypted_text = \"\".join([c if (c == \" \") else chr(ord(c)-13) if (ord(c)-13) > 96 else chr((ord(c)-13)+26) for c in cipher_text])\n",
    "print(\"Decrypted message: \", decrypted_text)"
   ]
  },
  {
   "cell_type": "markdown",
   "metadata": {},
   "source": [
    "At this point we are familiar with most of the components. \n",
    "- lines 1, 5, and 9 have short single-lined comments that explain the purpose of the lines that follow them\n",
    "- line 2 creates a simple *string* variable that serves as our message for the cipher\n",
    "- lines 3, 7, and 11 are simple *print* statements that print a short static text along with a string variable\n",
    "\n",
    "Now on to the interesting bit starting on the left of line 6.\n",
    "- $\\text{cipher_text = }$ serves as our new variable that will store the message after it has been encrypted\n",
    "- $\\text{\"\".join()}$ is a method for the *string* class which can concatenate a number of strings passed to it"
   ]
  },
  {
   "cell_type": "code",
   "execution_count": 30,
   "metadata": {},
   "outputs": [
    {
     "name": "stdout",
     "output_type": "stream",
     "text": [
      "Help on built-in function join:\n",
      "\n",
      "join(iterable, /) method of builtins.str instance\n",
      "    Concatenate any number of strings.\n",
      "    \n",
      "    The string whose method is called is inserted in between each given string.\n",
      "    The result is returned as a new string.\n",
      "    \n",
      "    Example: '.'.join(['ab', 'pq', 'rs']) -> 'ab.pq.rs'\n",
      "\n"
     ]
    }
   ],
   "source": [
    "help(\"\".join)"
   ]
  },
  {
   "cell_type": "markdown",
   "metadata": {},
   "source": [
    "The documentation tells us that we pass the strings we want to concatenate in a list and the method is called on the string that will be used as a separator. In our case we have chosen to not use a separator (i.e. empty string)\n",
    "\n",
    "For the next piece we have several components to review but first we need to understand how the substitution cipher works and how the computer stores letters in memory."
   ]
  },
  {
   "cell_type": "code",
   "execution_count": 31,
   "metadata": {},
   "outputs": [
    {
     "data": {
      "text/html": [
       "<img src=\"https://upload.wikimedia.org/wikipedia/commons/thumb/3/33/ROT13_table_with_example.svg/1280px-ROT13_table_with_example.svg.png\" width=\"500\"/>"
      ],
      "text/plain": [
       "<IPython.core.display.Image object>"
      ]
     },
     "metadata": {},
     "output_type": "display_data"
    }
   ],
   "source": [
    "from IPython.display import Image, display\n",
    "display(Image(url=\"https://upload.wikimedia.org/wikipedia/commons/thumb/3/33/ROT13_table_with_example.svg/1280px-ROT13_table_with_example.svg.png\", embed=False, width=500))"
   ]
  },
  {
   "cell_type": "markdown",
   "metadata": {},
   "source": [
    "The ROT13 substitution cipher is what is known as a rolling cipher which means that letters are shifted down the given number of places and when the end of the alphabet is reached it 'rolls' over back to the start of the alphabet and continues shifting. In our case we shift by 13, exactly half of the alphabet, which means the shifting is symmetrical (e.g. A shifts to N and N shifts to A). Had we shifted by 12 then A would become M and M would become Y instead of back to A.\n",
    "\n",
    "However when we have a character stored in a *string* variable we cannot simply add 13 to get the next character. A method around this is to first convert the character to a number. We could do this using a function with a series of *if* and *elif* statements to convert 26 letters to number values and another function to convert number values to letter.\n",
    "\n",
    "E.g."
   ]
  },
  {
   "cell_type": "code",
   "execution_count": 32,
   "metadata": {},
   "outputs": [],
   "source": [
    "def char_to_num(char):\n",
    "    if char == 'a':\n",
    "        return 0\n",
    "    elif char == 'b':\n",
    "        return 1\n",
    "    elif char == 'c':\n",
    "        return 2\n",
    "    # Etc.\n",
    "    \n",
    "def num_to_char(num):\n",
    "    if num == 0:\n",
    "        return 'a'\n",
    "    elif num == 1:\n",
    "        return 'b'\n",
    "    elif num == 2:\n",
    "        return 'c'\n",
    "    # Etc."
   ]
  },
  {
   "cell_type": "markdown",
   "metadata": {},
   "source": [
    "This solution would require us to write 96 *if/elif* statements if we include captial letters separately. Fotrunately there's a much more time efficient solution. \n",
    "\n",
    "Computers operate using tiny electrical switches which can either be ON (represented as a 1) or OFF (represented as a 0). Each switch is known as a *bit* with 2 states; by combining 8 *bits* we get a *byte* which can have a total of $2x2x2x2x2x2x2x2 = 2^8 = 256$ different states. Each character is assigned a value between 0-255 which allows the computer to handle letters and digits using only 0s and 1s. The assignment of characters to values follow a standardized protcol for all devices. The following is a table showing the assignment of the most fundamental characters.\n",
    "\n",
    "Note: there are several encoding standards which greatly increase the available characters, however they conform with ASCII"
   ]
  },
  {
   "cell_type": "code",
   "execution_count": 33,
   "metadata": {},
   "outputs": [
    {
     "data": {
      "text/html": [
       "<img src=\"https://upload.wikimedia.org/wikipedia/commons/thumb/d/dd/ASCII-Table.svg/738px-ASCII-Table.svg.png\" width=\"700\"/>"
      ],
      "text/plain": [
       "<IPython.core.display.Image object>"
      ]
     },
     "metadata": {},
     "output_type": "display_data"
    }
   ],
   "source": [
    "display(Image(url=\"https://upload.wikimedia.org/wikipedia/commons/thumb/d/dd/ASCII-Table.svg/738px-ASCII-Table.svg.png\", embed=False, width=700))"
   ]
  },
  {
   "cell_type": "markdown",
   "metadata": {},
   "source": [
    "Returning to our cipher, this means we can use the built-in functions $ord()$ and $chr()$ to convert letters to numbers and numbers to letters respectively."
   ]
  },
  {
   "cell_type": "code",
   "execution_count": 34,
   "metadata": {},
   "outputs": [
    {
     "name": "stdout",
     "output_type": "stream",
     "text": [
      "The number value of 'a' is: 97\n",
      "The letter for the number value of 98 is: b\n"
     ]
    }
   ],
   "source": [
    "print(\"The number value of 'a' is:\", ord('a'))\n",
    "print(\"The letter for the number value of 98 is:\", chr(98))"
   ]
  },
  {
   "cell_type": "markdown",
   "metadata": {},
   "source": [
    "So wherever you see the function $chr(ord(c \\pm i))$ where $c$ is the varaible holding the character and $i$ is an integer value what's happening is that the letter is being converted to a number which is being added to (shifted by) an amount and then converted back to a letter.\n",
    "\n",
    "The program uses *list comprehension* to perform the conversion for each letter in the string. *List comprehension* is a compact method of using a for loop to generate a list of items. The following two examples are equivalent:"
   ]
  },
  {
   "cell_type": "code",
   "execution_count": 35,
   "metadata": {},
   "outputs": [
    {
     "name": "stdout",
     "output_type": "stream",
     "text": [
      "['m', 'e', 's', 's', 'a', 'g', 'e', ' ', 't', 'o', ' ', 'c', 'o', 'n', 'v', 'e', 'r', 't', '!']\n",
      "['m', 'e', 's', 's', 'a', 'g', 'e', ' ', 't', 'o', ' ', 'c', 'o', 'n', 'v', 'e', 'r', 't', '!']\n"
     ]
    },
    {
     "data": {
      "text/plain": [
       "True"
      ]
     },
     "execution_count": 35,
     "metadata": {},
     "output_type": "execute_result"
    }
   ],
   "source": [
    "text = \"message to convert!\"\n",
    "\n",
    "# Method 1: For loop\n",
    "list_1 = []\n",
    "for char in text:\n",
    "    list_1.append(char)\n",
    "\n",
    "# Method 2: List comprehension\n",
    "list_2 = [char for char in text]\n",
    "\n",
    "# Compare the two\n",
    "print(list_1)\n",
    "print(list_2)\n",
    "list_1 == list_2"
   ]
  },
  {
   "cell_type": "markdown",
   "metadata": {},
   "source": [
    "Combing everthing together we can create recreate the ROT13 cipher simply:"
   ]
  },
  {
   "cell_type": "code",
   "execution_count": 36,
   "metadata": {},
   "outputs": [
    {
     "name": "stdout",
     "output_type": "stream",
     "text": [
      "Original message:  we ride at dawn\n",
      "Encrypted message:  r-vqr-n-qn{\n",
      "Decrypted message:  we ride at dawn\n"
     ]
    }
   ],
   "source": [
    "# Starting with a plain text message\n",
    "plain_text = \"we ride at dawn\"\n",
    "print(\"Original message: \", plain_text)\n",
    "\n",
    "# We encrypt it using ROT13, rotating each letter by 13 down the alphabet\n",
    "cipher_text = \"\".join([chr(ord(c)+13) for c in plain_text])\n",
    "print(\"Encrypted message: \", cipher_text)\n",
    "\n",
    "# We decrypt the message using the reverse process to recover the original message\n",
    "decrypted_text = \"\".join([chr(ord(c)-13) for c in cipher_text])\n",
    "print(\"Decrypted message: \", decrypted_text)"
   ]
  },
  {
   "cell_type": "markdown",
   "metadata": {},
   "source": [
    "You'll notice that our encrypted message has some unrecognizable characters and our code is different from the original. Since the ASCII table contains more characters than just letters and numbers when we add our shift to the message the new numerical value exceeds the alphabet characters in the table (e.g. *n* becomes *{*) To combat this the original program from session 1 implemented a series of *if/else* statements that subtracted the length of the alphabet if the shifting was too far, and ignored shifting space characters. This was mainly done to make the encrypted message easier to compare to the plain text and isn't necessary.\n",
    "\n",
    "The full list comprehension code is written below in the more conventional way to make the logic easier to understand."
   ]
  },
  {
   "cell_type": "code",
   "execution_count": 37,
   "metadata": {},
   "outputs": [],
   "source": [
    "# original list comprehension\n",
    "[c if (c == \" \") else chr(ord(c)+13) if (ord(c)+13) < 123 else chr((ord(c)+13)-26) for c in plain_text]\n",
    "\n",
    "\n",
    "# logic breakdown\n",
    "list_1 = []\n",
    "for c in plain_text:\n",
    "    if c == \" \":            # if the character is a space just add it to the list\n",
    "        list_1.append(c)\n",
    "    else:                   # otherwise move on to the next if statement\n",
    "        \n",
    "        if (ord(c) + 13) < 123:                     # if the numerical value of the character is in the right range shift it and add to the list \n",
    "            list_1.append(chr(ord(c)+13))\n",
    "        else:                                       # otherwise shift it, then shift down by the length of the alphabet and add to the list\n",
    "            list_1.append(chr((ord(c)+13)-26))\n"
   ]
  },
  {
   "cell_type": "markdown",
   "metadata": {},
   "source": [
    "##### Challenge:\n",
    "\n",
    "The Vigenere Cipher (https://en.wikipedia.org/wiki/Vigen%C3%A8re_cipher) is another encryption method that can easily be implemented in a similar way. Unlike the ROT13 cipher which shifts by a constant 13, the Vigenere Cipher uses a keyword (repeated if the plain text message is too long) to encrypt each letter by a different amount according to the keyword. For example if our message is *\"the cookies are in the jar\"* and our keyword is *\"delicious\"* then we would combine the first letter *d* with *t* to get the first encrypted letter *w*.\n",
    "\n",
    "Using the encryption table below try to create a short program similar to our ROT13 example that takes a short plain text message, encrypts it according to a keyword, and then decrypts it again using the keyword."
   ]
  },
  {
   "cell_type": "code",
   "execution_count": 38,
   "metadata": {},
   "outputs": [
    {
     "data": {
      "text/html": [
       "<img src=\"https://upload.wikimedia.org/wikipedia/commons/thumb/9/9a/Vigen%C3%A8re_square_shading.svg/600px-Vigen%C3%A8re_square_shading.svg.png\" width=\"400\"/>"
      ],
      "text/plain": [
       "<IPython.core.display.Image object>"
      ]
     },
     "metadata": {},
     "output_type": "display_data"
    }
   ],
   "source": [
    "display(Image(url=\"https://upload.wikimedia.org/wikipedia/commons/thumb/9/9a/Vigen%C3%A8re_square_shading.svg/600px-Vigen%C3%A8re_square_shading.svg.png\", embed=False, width=400))"
   ]
  },
  {
   "cell_type": "markdown",
   "metadata": {},
   "source": [
    "***\n",
    "### A simple card game\n",
    "\n",
    "Card games make for good projects while you learn since they don't require a graphics interface and if you choose to integrate one it can be done easily using Tkinter or similar libraries.\n",
    "\n",
    "For this example we'll develop a simple game of blackjack utilizing the *random* library, user-define functions, and loops. Blackjack (https://en.wikipedia.org/wiki/Blackjack) is a card game with a player and dealer where the goal of the game is to get the highest score without going over 21. The simple nature of the game makes it ideal for practice in programming functions, loops, and if statements.\n",
    "\n",
    "Before we start coding let's take a look at the events that occur in a round of blackjack:\n",
    "$\n",
    "\\hspace{10mm}\\text{A deck of cards is shuffled.} \\\\\n",
    "\\hspace{10mm}\\text{Two cards are dealt to the player and the dealer each.} \\\\\n",
    "\\hspace{10mm}\\text{The player can choose to hit (receive another card and increase their score), or stay (remain at their score).} \\\\\n",
    "\\hspace{10mm}\\text{If the dealers score is below 17, they deal themselves cards until they reach a score of 17 or over.} \\\\\n",
    "\\hspace{10mm}\\text{The scores of the player and the dealer are compared and the one with the highest score under 22 wins.} \\\\\n",
    "$\n",
    "\n",
    "##### Challenge 1:\n",
    "Write detailed pseudocode for how we might implement the game of blackjack such that the events above are accounted for.\n",
    "\n",
    "***\n",
    "Let's begin our program by importing any libraries that we know we'll need according to the listed events.\n",
    "The *random* library include a series of useful functions that can be used to get random numbers or randomize sets. For our case we'll use the shuffle function which randomizes the order of a list which will contain our deck of cards."
   ]
  },
  {
   "cell_type": "code",
   "execution_count": 39,
   "metadata": {},
   "outputs": [],
   "source": [
    "# Import the library function we need\n",
    "from random import shuffle"
   ]
  },
  {
   "cell_type": "markdown",
   "metadata": {},
   "source": [
    "Next let's outline the basic form of the game. For this program we'll enclose our main code as a function which will allow us to repeatedly call the function whenever we want to play another round of blackjack."
   ]
  },
  {
   "cell_type": "code",
   "execution_count": 40,
   "metadata": {},
   "outputs": [],
   "source": [
    "# Define a main funtion to call when we wan to play a round of blackjack\n",
    "def play_blackjack():\n",
    "    # Define a list to hold the deck\n",
    "    deck = [2,3,4,5,6,7,8,9,10,\"J\",\"Q\",\"K\",\"A\"]*4\n",
    "    # Shuffle the deck\n",
    "    shuffle(deck)\n",
    "    \n",
    "    # Define variables to hold a list of cards in each hand\n",
    "    dealer_hand = []\n",
    "    player_hand = []\n",
    "    # Define variables to track the total scores of each hand\n",
    "    dealer_total = 0\n",
    "    player_total = 0\n",
    "    \n",
    "    # Deal 2 cards to each hand at the start of the game\n",
    "    for i in range(2):\n",
    "        player_total = hit(deck, player_hand)\n",
    "        dealer_total = hit(deck, dealer_hand)\n",
    "    \n",
    "    # Display the welcome screen with the player hand\n",
    "    print(\"\\nWELCOME TO BLACKJACK!\\n\")\n",
    "    print(\"The dealer is showing a \" + str(dealer_hand[0]))\n",
    "    print(\"You have a \" + str(player_hand) + \" for a total of \" + str(player_total))\n",
    "    \n",
    "    # Get the players input\n",
    "    choice = input(\"Do you want to hit or stand (h/s): \").lower()\n",
    "\n",
    "    # Continuously add cards to the player hand if they choose 'hit'\n",
    "    while choice == \"h\":\n",
    "        player_total = hit(deck, player_hand)\n",
    "        print(\"You now have a \" + str(player_hand) + \" for a total of \" + str(player_total))\n",
    "        choice = input(\"Do you want to hit or stand (h/s): \").lower()\n",
    "\n",
    "    # Deal cards to the dealer\n",
    "    while dealer_total < 17:\n",
    "        hit(deck, dealer_hand)\n",
    "    \n",
    "    # Display the final results of the game\n",
    "    game_result(dealer_hand, player_hand, dealer_total, player_total)"
   ]
  },
  {
   "cell_type": "markdown",
   "metadata": {},
   "source": [
    "At the start of the round the function creates a deck contained in a *list*. (Note: the card suit is irrelevant in blackjack which allows us to multiply the list by for to get it to repeat and contain the full number of cards.) \n",
    "\n",
    "The deck (*list*) is then shuffled using the *shuffle* function from the *random* library. (Call *help(shuffle)* to see the description of the function.)\n",
    "\n",
    "The program then defines 2 *lists* to track the cards in each players hand and two *integers* to track the score of each hand. Each hand is dealt two cards and the start screen is printed to let the player know what is going on. (Since cards will be dealt any number of times throughout the game we choose to simplify the program and define a secondary function later named *hit()* which will take care of the process.)\n",
    "\n",
    "We then ask the user for their choice via the *input()* function which returns a string of the input which we cast to lowercase letters to reduce misinterpreted input.\n",
    "\n",
    "As long as the player chooses to hit, the program will be stuck in a *while* loop that deals another card to the player's hand (*list*), prints their new score, and asks for a new choice.\n",
    "\n",
    "When the player finishes their moves the program handles the dealer's actions and prints the final game results (which will be done using another function to reduce the length of the main function and retain clarity).\n",
    "\n",
    "***\n",
    "The simple *play_blackjack* function now contains the essence of the game and we need only implement the *hit()* and *game_result()* functions to make the game playable."
   ]
  },
  {
   "cell_type": "code",
   "execution_count": 41,
   "metadata": {},
   "outputs": [],
   "source": [
    "# Define a function to draw a card from the deck and add it to the hand\n",
    "def hit(deck, hand):\n",
    "    # Remove a card from the top of the deck\n",
    "    card = deck.pop()\n",
    "    # Add the card to the hand\n",
    "    hand.append(card)\n",
    "    # Compute the new score and return the total\n",
    "    return score(hand)"
   ]
  },
  {
   "cell_type": "markdown",
   "metadata": {},
   "source": [
    "The *hit()* function needs two variables to work: the deck that the card will be dealt from, and the player's hand where the card will be dealt to.\n",
    "\n",
    "Using the built-in *list* method *pop()* we can remove and item from the deck and add it to the hand with the *append()* method.\n",
    "\n",
    "Now every time we deal a new card we'll also want an updated score but our program may also want to compute the score of a hand without dealing any new cards. Thus we define another new function called *score()* to hand that and return the value.\n",
    "\n",
    "***\n",
    "For the *score()* function we'll need the hand (*list*) to count the score from. Using a variable and a for loop we can go through each card in the hand and add up the total score. The value of the card can be found using a series of *if/elif* statements which can even account for the different possible values of an ace."
   ]
  },
  {
   "cell_type": "code",
   "execution_count": 42,
   "metadata": {},
   "outputs": [],
   "source": [
    "# Define a function to tally up the score of the given hand\n",
    "def score(hand):\n",
    "    # Define a variable to track the total score\n",
    "    total = 0\n",
    "    \n",
    "    # Loop through each card in the hand\n",
    "    for card in hand:\n",
    "        # Determine the score of the the card\n",
    "        if card == \"J\" or card == \"Q\" or card == \"K\":\n",
    "            total += 10\n",
    "        elif card == \"A\":\n",
    "            if total < 11:\n",
    "                total += 11\n",
    "            else:\n",
    "                total += 1\n",
    "        else:\n",
    "            total += card\n",
    "    \n",
    "    return total"
   ]
  },
  {
   "cell_type": "markdown",
   "metadata": {},
   "source": [
    "Lastly, we need a function called *game_results()* to find the winner and give the player a unique message telling them how the game turned out. This can be done by displaying the scores as done in the main function and then use a *if/elif* statement to determine the outcome. Since the purpose of this function is to print to the console we don't need to inclue a return statement for it."
   ]
  },
  {
   "cell_type": "code",
   "execution_count": 43,
   "metadata": {},
   "outputs": [],
   "source": [
    "# Define a function to determine the winner at the end of the game\n",
    "def game_result(dealer_hand, player_hand, dealer_total, player_total):\n",
    "    # Display the final hands and score of the player and the dealer\n",
    "    print(\"The dealer has a \" + str(dealer_hand) + \" for a total of \" + str(dealer_total))\n",
    "    print(\"You have a \" + str(player_hand) + \" for a total of \" + str(player_total))\n",
    "    \n",
    "    # Determine the winning condition\n",
    "    if player_total == 21:\n",
    "        print(\"\\nYou got a Blackjack! Congratulations, you win! \\n\")\n",
    "    elif dealer_total == 21:\n",
    "        print(\"\\nThe dealer got a Blackjack. Sorry, you lose.\\n\")\n",
    "    elif player_total > 21:\n",
    "        print(\"\\nYou busted. Sorry, you lose.\\n\")\n",
    "    elif dealer_total > 21:\n",
    "        print(\"\\nDealer busted. Congratulations, you win!\\n\")\n",
    "    elif player_total < dealer_total:\n",
    "        print(\"\\nThe dealer has a higher score than you. Sorry, you lose.\\n\")\n",
    "    elif player_total > dealer_total:\n",
    "        print(\"\\nYou have a higher score than the dealer. Congratulations, you win!\\n\")"
   ]
  },
  {
   "cell_type": "markdown",
   "metadata": {},
   "source": [
    "Now our game is functionally complete! We can call the *play_blackjack()* function to try out luck in a round!"
   ]
  },
  {
   "cell_type": "code",
   "execution_count": 44,
   "metadata": {},
   "outputs": [
    {
     "name": "stdout",
     "output_type": "stream",
     "text": [
      "\n",
      "WELCOME TO BLACKJACK!\n",
      "\n",
      "The dealer is showing a 7\n",
      "You have a [9, 3] for a total of 12\n",
      "Do you want to hit or stand (h/s): \n",
      "The dealer has a [7, 'Q'] for a total of 17\n",
      "You have a [9, 3] for a total of 12\n",
      "\n",
      "The dealer has a higher score than you. Sorry, you lose.\n",
      "\n"
     ]
    }
   ],
   "source": [
    "# Play a round of blackjack\n",
    "play_blackjack()"
   ]
  },
  {
   "cell_type": "markdown",
   "metadata": {},
   "source": [
    "##### Challenge 2:\n",
    "This program opts for simiplicity over ensuring that it will work realistically in every type of situation. This means our program may potentially several bugs which can be found by testing unique scenarios. For example, what happens if the player hits until the deck is entirely empty? Try adding a condition or two to avoid having this happen.\n",
    "\n",
    "##### Challenge 3:\n",
    "Another bug in our program occurs in the *score()* function. Consider what happens if the player is dealt an ace and two 6s in that order. The score counter will count the first card (the ace) as 11 points and the two sixes as an additional 12 resulting in a bust, even though the ace can be counted as a 1 which would result in a playable score of 13. Try implementing a solution that will count any aces in the player's hand at the very end to get a more accurate score. (Hint: one solution to consider is sorting the player's hand (*list*) at the start of the *score* function. Alternatively an easier solution is to add a new counter to track the number of aces in the hand and wait to add them to the total until the end of the function.)\n",
    "\n",
    "##### Challenge 4:\n",
    "Real blackjack has a betting component to it. Try implementing a simple system that allows the player to bet on their hand."
   ]
  },
  {
   "cell_type": "markdown",
   "metadata": {},
   "source": [
    "# Cheat Sheets\n",
    "\n",
    "When learning to program there can be lots of information to process and it can be difficult to remember everything. A good approach is to focus on fully understanding the concepts first and then creating a cheat sheet that you can refer to whenever you need a reminder of the synatx or how to do something particular. \n",
    "\n",
    "Writing your own cheat sheet can also be a good study tool for reviewing the material. For those who prefer starting with a basic sheet and personalizing it as they learning, here as some sheets covering the materials from this session:\n",
    "\n",
    "- Basics: https://github.com/ehmatthes/pcc/blob/master/cheat_sheets/beginners_python_cheat_sheet_pcc.pdf\n",
    "- Lists: https://github.com/ehmatthes/pcc/blob/master/cheat_sheets/beginners_python_cheat_sheet_pcc_lists.pdf\n",
    "- Dictionaries: https://github.com/ehmatthes/pcc/blob/master/cheat_sheets/beginners_python_cheat_sheet_pcc_dictionaries.pdf\n",
    "- If Statements & While Loops: https://github.com/ehmatthes/pcc/blob/master/cheat_sheets/beginners_python_cheat_sheet_pcc_if_while.pdf\n",
    "- Functions: https://github.com/ehmatthes/pcc/blob/master/cheat_sheets/beginners_python_cheat_sheet_pcc_functions.pdf"
   ]
  },
  {
   "cell_type": "markdown",
   "metadata": {},
   "source": [
    "# Saving this notebook"
   ]
  },
  {
   "cell_type": "markdown",
   "metadata": {},
   "source": [
    "If you have made changes to this notebooks and would like to save it for future reference you can download it by going to **File -> Download as -> notebook** in the toolbar.\n",
    "\n",
    "If you wish to access downloaded notebook you will need to download and install Anaconda's software distribution (https://www.anaconda.com/distribution/) on your computer and open the notebook through the Jupyter Notebook software."
   ]
  },
  {
   "cell_type": "code",
   "execution_count": null,
   "metadata": {},
   "outputs": [],
   "source": []
  }
 ],
 "metadata": {
  "kernelspec": {
   "display_name": "Python 3",
   "language": "python",
   "name": "python3"
  },
  "language_info": {
   "codemirror_mode": {
    "name": "ipython",
    "version": 3
   },
   "file_extension": ".py",
   "mimetype": "text/x-python",
   "name": "python",
   "nbconvert_exporter": "python",
   "pygments_lexer": "ipython3",
   "version": "3.7.4"
  }
 },
 "nbformat": 4,
 "nbformat_minor": 2
}
